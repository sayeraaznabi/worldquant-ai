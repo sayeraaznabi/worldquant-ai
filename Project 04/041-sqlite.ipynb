{
 "cells": [
  {
   "cell_type": "markdown",
   "metadata": {},
   "source": [
    "Wrangling data with sql\n"
   ]
  },
  {
   "cell_type": "code",
   "execution_count": null,
   "metadata": {},
   "outputs": [],
   "source": [
    "import sqlite3\n",
    "\n",
    "import pandas as pd\n",
    "from IPython.display import VimeoVideo"
   ]
  },
  {
   "cell_type": "markdown",
   "metadata": {},
   "source": [
    "Prepare data\n"
   ]
  },
  {
   "cell_type": "markdown",
   "metadata": {},
   "source": [
    "Connect\n"
   ]
  },
  {
   "cell_type": "code",
   "execution_count": null,
   "metadata": {},
   "outputs": [],
   "source": [
    "#Run the cell below to connect to the nepal.sqlite database\n",
    "%load_ext sql\n",
    "%sql sqlite:////home/jovyan/nepal.sqlite"
   ]
  },
  {
   "cell_type": "markdown",
   "metadata": {},
   "source": [
    "Explore"
   ]
  },
  {
   "cell_type": "code",
   "execution_count": null,
   "metadata": {},
   "outputs": [],
   "source": [
    "#How many tables are in the nepal.sqlite database? What information do they hold\n",
    "%%sql\n",
    "SELECT *\n",
    "FROM sqlite_schema"
   ]
  },
  {
   "cell_type": "code",
   "execution_count": null,
   "metadata": {},
   "outputs": [],
   "source": [
    "#Select the name column from the sqlite_schema table, showing only rows where the type is \"table\"\n",
    "%%sql\n",
    "SELECT name\n",
    "FROM sqlite_schema\n",
    "WHERE type= \"table\""
   ]
  },
  {
   "cell_type": "code",
   "execution_count": null,
   "metadata": {},
   "outputs": [],
   "source": [
    "#Select all columns from the id_map table, limiting your results to the first five rows\n",
    "%%sql\n",
    "SELECT *\n",
    "FROM id_map\n",
    "LIMIT 5"
   ]
  },
  {
   "cell_type": "code",
   "execution_count": null,
   "metadata": {},
   "outputs": [],
   "source": [
    "# How many observations are in the id_map table? Use the count command to find out.\n",
    "%%sql\n",
    "SELECT count(*)\n",
    "from id_map"
   ]
  },
  {
   "cell_type": "code",
   "execution_count": null,
   "metadata": {},
   "outputs": [],
   "source": [
    "# What districts are represented in the id_map table? Use the distinct command to determine the unique values in the district_id column\n",
    "%%sql\n",
    "SELECT distinct(district_id)\n",
    "from id_map"
   ]
  },
  {
   "cell_type": "code",
   "execution_count": null,
   "metadata": {},
   "outputs": [],
   "source": [
    "#How many buildings are there in id_map table? Combine the count and distinct commands to calculate the number of unique values in building_id\n",
    "%%sql\n",
    "SELECT count(distinct(building_id))\n",
    "from id_map"
   ]
  },
  {
   "cell_type": "code",
   "execution_count": null,
   "metadata": {},
   "outputs": [],
   "source": [
    "# For our model, we'll focus on Gorkha (district 4). Select all columns that from id_map, showing only rows where the district_id is 4 and limiting your results to the first five rows\n",
    "%%sql\n",
    "SELECT *\n",
    "FROM id_map\n",
    "where district_id = 4\n",
    "limit 5"
   ]
  },
  {
   "cell_type": "code",
   "execution_count": null,
   "metadata": {},
   "outputs": [],
   "source": [
    "#How many observations in the id_map table come from Gorkha? Use the count and WHERE commands together to calculate the answer\n",
    "%%sql\n",
    "SELECT COUNT(*)\n",
    "FROM id_map\n",
    "where district_id=4"
   ]
  },
  {
   "cell_type": "code",
   "execution_count": null,
   "metadata": {},
   "outputs": [],
   "source": [
    "#How many buildings in the id_map table are in Gorkha? Combine the count and distinct commands to calculate the number of unique values in building_id, considering only rows where the district_id is 4\n",
    "%%sql\n",
    "SELECT count (distinct(building_id)) AS unique_building_gorkha\n",
    "FROM id_map\n",
    "where district_id=4"
   ]
  },
  {
   "cell_type": "code",
   "execution_count": null,
   "metadata": {},
   "outputs": [],
   "source": [
    "# Select all the columns from the building_structure table, and limit your results to the first five rows\n",
    "%%sql\n",
    "SELECT *\n",
    "FROM building_structure \n",
    "LIMIT 5"
   ]
  },
  {
   "cell_type": "code",
   "execution_count": null,
   "metadata": {},
   "outputs": [],
   "source": [
    "#How many building are there in the building_structure table? Use the count command to find out\n",
    "%%sql\n",
    "SELECT count(*)\n",
    "FROM building_structure"
   ]
  },
  {
   "cell_type": "code",
   "execution_count": null,
   "metadata": {},
   "outputs": [],
   "source": [
    "#There are over 200,000 buildings in the building_structure table, but how can we retrieve only buildings that are in Gorkha? Use the JOIN command to join the id_map and building_structure tables, showing only buildings where district_id is 4 and limiting your results to the first five rows of the new table.\n",
    "%%sql\n",
    "SELECT *\n",
    "FROM id_map\n",
    "JOIN building_structure ON id_map.building_id=building_structure.building_id\n",
    "WHERE district_id =4\n",
    "LIMIT 5"
   ]
  },
  {
   "cell_type": "code",
   "execution_count": null,
   "metadata": {},
   "outputs": [],
   "source": [
    "%%sql\n",
    "SELECT  *\n",
    "FROM id_map AS i\n",
    "JOIN building_structure AS s ON i.building_id=s.building_id\n",
    "WHERE district_id =4\n",
    "LIMIT 5"
   ]
  },
  {
   "cell_type": "code",
   "execution_count": null,
   "metadata": {},
   "outputs": [],
   "source": [
    "#Use the distinct command to create a column with all unique building IDs in the id_map table. JOIN this column with all the columns from the building_structure table, showing only buildings where district_id is 4 and limiting your results to the first five rows of the new table\n",
    "%%sql\n",
    "SELECT distinct(i.building_id),\n",
    "        s.*\n",
    "FROM id_map AS i\n",
    "JOIN building_structure AS s ON i.building_id=s.building_id\n",
    "WHERE district_id =4\n",
    "LIMIT 5"
   ]
  },
  {
   "cell_type": "code",
   "execution_count": null,
   "metadata": {},
   "outputs": [],
   "source": [
    "#How can combine all three tables? Using the query you created in the last task as a foundation, include the damage_grade column to your table by adding a second JOIN for the building_damage table. Be sure to limit your results to the first five rows of the new table\n",
    "%%sql\n",
    "SELECT distinct(i.building_id) AS b_id,\n",
    "        s.*,\n",
    "        d.damage_grade\n",
    "FROM id_map AS i\n",
    "JOIN building_structure AS s ON i.building_id=s.building_id\n",
    "JOIN building_damage AS d ON i.building_id=d.building_id\n",
    "WHERE district_id =4\n",
    "LIMIT 5"
   ]
  },
  {
   "cell_type": "code",
   "execution_count": null,
   "metadata": {},
   "outputs": [],
   "source": [
    "#Use the connect method from the sqlite3 library to connect to the database. Remember that the database is located at \"/home/jovyan/nepal.sqlite\"\n",
    "conn = sqlite3.connect(\"/home/jovyan/nepal.sqlite\")"
   ]
  },
  {
   "cell_type": "code",
   "execution_count": null,
   "metadata": {},
   "outputs": [],
   "source": [
    "#Put your last SQL query into a string and assign it to the variable query\n",
    "query = \"\"\"\n",
    "SELECT distinct(i.building_id) AS b_id,\n",
    "        s.*,\n",
    "        d.damage_grade\n",
    "FROM id_map AS i\n",
    "JOIN building_structure AS s ON i.building_id=s.building_id\n",
    "JOIN building_damage AS d ON i.building_id=d.building_id\n",
    "WHERE district_id =4\n",
    "\"\"\"\n",
    "print(query)"
   ]
  },
  {
   "cell_type": "code",
   "execution_count": null,
   "metadata": {},
   "outputs": [],
   "source": [
    "#Use the read_sql from the pandas library to create a DataFrame from your query. Be sure that the building_id is set as your index column\n",
    "df = pd.read_sql(query, conn, index_col= \"b_id\")\n",
    "\n",
    "df.head()"
   ]
  }
 ],
 "metadata": {
  "kernelspec": {
   "display_name": "Python 3.10.7 64-bit (microsoft store)",
   "language": "python",
   "name": "python3"
  },
  "language_info": {
   "name": "python",
   "version": "3.10.7"
  },
  "orig_nbformat": 4,
  "vscode": {
   "interpreter": {
    "hash": "3863b2c5477f4dfe9734428f9b5659b9c57b4995a7858c229730ccb9c81899f8"
   }
  }
 },
 "nbformat": 4,
 "nbformat_minor": 2
}
