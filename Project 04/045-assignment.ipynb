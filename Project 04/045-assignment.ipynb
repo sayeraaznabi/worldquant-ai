{
 "cells": [
  {
   "cell_type": "markdown",
   "metadata": {},
   "source": [
    "Earthquake Damage in Kavrepalanchok NP"
   ]
  },
  {
   "cell_type": "code",
   "execution_count": null,
   "metadata": {},
   "outputs": [],
   "source": [
    "# Import libraries here\n",
    "import sqlite3\n",
    "import warnings\n",
    "\n",
    "import matplotlib.pyplot as plt\n",
    "import numpy as np\n",
    "import pandas as pd\n",
    "import seaborn as sns\n",
    "from category_encoders import OneHotEncoder\n",
    "from IPython.display import VimeoVideo\n",
    "from sklearn.linear_model import LogisticRegression\n",
    "from sklearn.metrics import accuracy_score\n",
    "from sklearn.model_selection import train_test_split\n",
    "from sklearn.pipeline import Pipeline, make_pipeline\n",
    "from sklearn.utils.validation import check_is_fitted\n",
    "\n",
    "warnings.simplefilter(action=\"ignore\", category=FutureWarning)"
   ]
  },
  {
   "cell_type": "markdown",
   "metadata": {},
   "source": [
    "Prepara data"
   ]
  },
  {
   "cell_type": "markdown",
   "metadata": {},
   "source": [
    "Connect"
   ]
  },
  {
   "cell_type": "code",
   "execution_count": null,
   "metadata": {},
   "outputs": [],
   "source": [
    "%load_ext sql\n",
    "%sql sqlite:////home/jovyan/nepal.sqlite"
   ]
  },
  {
   "cell_type": "code",
   "execution_count": null,
   "metadata": {},
   "outputs": [],
   "source": [
    "%%sql\n",
    "SELECT *\n",
    "FROM sqlite_schema"
   ]
  },
  {
   "cell_type": "code",
   "execution_count": null,
   "metadata": {},
   "outputs": [],
   "source": [
    "%%sql\n",
    "SELECT name\n",
    "FROM sqlite_schema\n",
    "WHERE type= \"table\""
   ]
  },
  {
   "cell_type": "code",
   "execution_count": null,
   "metadata": {},
   "outputs": [],
   "source": [
    "# What districts are represented in the id_map table? Determine the unique values in the district_id column.\n",
    "%%sql\n",
    "SELECT distinct(district_id)\n",
    "FROM id_map"
   ]
  },
  {
   "cell_type": "code",
   "execution_count": null,
   "metadata": {},
   "outputs": [],
   "source": [
    "# Calculate the number of observations in the id_map table associated with district \n",
    "%%sql\n",
    "SELECT count(*)\n",
    "FROM id_map\n",
    "WHERE district_id = 1\n",
    "Limit 5"
   ]
  },
  {
   "cell_type": "code",
   "execution_count": null,
   "metadata": {},
   "outputs": [],
   "source": [
    "# Calculate the number of observations in the id_map table associated with district 3\n",
    "%%sql\n",
    "SELECT count(*)\n",
    "FROM id_map\n",
    "WHERE district_id = 3"
   ]
  },
  {
   "cell_type": "code",
   "execution_count": null,
   "metadata": {},
   "outputs": [],
   "source": [
    "%%sql\n",
    "SELECT *\n",
    "FROM building_damage\n",
    "LIMIT 5"
   ]
  },
  {
   "cell_type": "code",
   "execution_count": null,
   "metadata": {},
   "outputs": [],
   "source": [
    "#Join the unique building IDs from Kavrepalanchok in id_map, all the columns from building_structure, and the damage_grade column from building_damage, limiting. Make sure you rename the building_id column in id_map as b_id and limit your results to the first five rows of the new table.\n",
    "%%sql\n",
    "SELECT distinct(i.building_id) AS b_id,\n",
    "    s.*,\n",
    "    d.damage_grade\n",
    "FROM id_map AS i\n",
    "JOIN building_structure AS s ON i.building_id=s.building_id\n",
    "JOIN building_damage AS d ON i.building_id=d.building_id\n",
    "WHERE district_id = 3\n",
    "LIMIT 5"
   ]
  },
  {
   "cell_type": "code",
   "execution_count": null,
   "metadata": {},
   "outputs": [],
   "source": [
    "#Write a wrangle function that will use the query you created in the previous task to create a DataFrame. In addition your function should: Create a \"severe_damage\" column, where all buildings with a damage grade greater than 3 should be encoded as 1. All other buildings should be encoded at 0.\n",
    "#Drop any columns that could cause issues with leakage or multicollinearity in your model. Build your `wrangle` function here\n",
    "def wrangle(db_path):\n",
    "    # Connect to database\n",
    "    conn = sqlite3.connect(db_path)\n",
    "    # Construct query\n",
    "    query = \"\"\"\n",
    "   SELECT distinct(i.building_id) AS b_id,\n",
    "    s.*,\n",
    "    d.damage_grade\n",
    "FROM id_map AS i\n",
    "JOIN building_structure AS s ON i.building_id=s.building_id\n",
    "JOIN building_damage AS d ON i.building_id=d.building_id\n",
    "WHERE district_id = 3\n",
    "                \"\"\"\n",
    "\n",
    "    # Read query results into DataFrame\n",
    "    df = pd.read_sql(query, conn, index_col= \"b_id\")\n",
    "    \n",
    "    #Create binary target column\n",
    "    df[\"damage_grade\"]=df[\"damage_grade\"].str[-1].astype(int)\n",
    "    df[\"severe_damage\"]=(df[\"damage_grade\"]>3).astype(int)\n",
    "    # identify leaky column\n",
    "    drop_cols=[col for col in df.columns if  \"post_eq\" in col]\n",
    "    \n",
    "    #drop old column\n",
    "    drop_cols.append(\"damage_grade\")\n",
    "    \n",
    "    #drop multicollinerity column\n",
    "    drop_cols.append(\"count_floors_pre_eq\")\n",
    "    \n",
    "    #drop high-cardinality catagorical column\n",
    "    drop_cols.append(\"building_id\")\n",
    "    \n",
    "    #Drop column\n",
    "    df.drop(columns=drop_cols, inplace=True)\n",
    "    \n",
    "    return df"
   ]
  },
  {
   "cell_type": "code",
   "execution_count": null,
   "metadata": {},
   "outputs": [],
   "source": [
    "df = wrangle(\"/home/jovyan/nepal.sqlite\")\n",
    "df.head()"
   ]
  },
  {
   "cell_type": "code",
   "execution_count": null,
   "metadata": {},
   "outputs": [],
   "source": [
    "df[\"damage_grade\"]=df[\"damage_grade\"].str[-1].astype(int)\n",
    "df[\"severe_damage\"]=(df[\"severe_damage\"]>3).astype(int)"
   ]
  },
  {
   "cell_type": "code",
   "execution_count": null,
   "metadata": {},
   "outputs": [],
   "source": [
    "correlation = df.select_dtypes(\"number\").drop(columns=\"severe_damage\").corr()\n",
    "correlation\n",
    "# Plot heatmap of `correlation`\n",
    "sns.heatmap(correlation)"
   ]
  },
  {
   "cell_type": "markdown",
   "metadata": {},
   "source": [
    "Explore"
   ]
  },
  {
   "cell_type": "code",
   "execution_count": null,
   "metadata": {},
   "outputs": [],
   "source": [
    "#Are the classes in this dataset balanced? Create a bar chart with the normalized value counts from the \"severe_damage\" column. Be sure to label the x-axis \"Severe Damage\" and the y-axis \"Relative Frequency\". Use the title \"Kavrepalanchok, Class Balance\"\n",
    "# Plot value counts of `\"severe_damage\"`\n",
    "df[\"severe_damage\"].value_counts(normalize=True).plot(kind=\"bar\")\n",
    "plt.xlabel(\"Severe Damage\")\n",
    "plt.ylabel(\"Relative Frequency\")\n",
    "plt.title (\"Kavrepalanchok, Class Balance\")\n",
    "# Don't delete the code below 👇\n",
    "plt.savefig(\"images/4-5-6.png\", dpi=150)\n"
   ]
  },
  {
   "cell_type": "code",
   "execution_count": null,
   "metadata": {},
   "outputs": [],
   "source": [
    "#Is there a relationship between the footprint size of a building and the damage it sustained in the earthquake? Use seaborn to create a boxplot that shows the distributions of the \"plinth_area_sq_ft\" column for both groups in the \"severe_damage\" column. Label your x-axis \"Severe Damage\" and y-axis \"Plinth Area [sq. ft.]\". Use the title \"Kavrepalanchok, Plinth Area vs Building Damage\"\n",
    "sns.boxplot(x=df[\"severe_damage\"], y=df[\"plinth_area_sq_ft\"])\n",
    "plt.xlabel(\"severe_damage\")\n",
    "plt.ylabel(\"Plinth_area_sq_ft\")\n",
    "plt.title(\"Karepalanchok, Plinth Area vs Building Damage\")\n",
    "# Don't delete the code below 👇\n",
    "plt.savefig(\"images/4-5-7.png\", dpi=150)\n"
   ]
  },
  {
   "cell_type": "code",
   "execution_count": null,
   "metadata": {},
   "outputs": [],
   "source": [
    "#Are buildings with certain roof types more likely to suffer severe damage? Create a pivot table of df where the index is \"roof_type\" and the values come from the \"severe_damage\" column, aggregated by the mean\n",
    "roof_pivot = pd.pivot_table(data=df, index=\"roof_type\", values=\"severe_damage\", aggfunc=\"mean\")\n",
    "roof_pivot"
   ]
  },
  {
   "cell_type": "markdown",
   "metadata": {},
   "source": [
    "Split\n"
   ]
  },
  {
   "cell_type": "code",
   "execution_count": null,
   "metadata": {},
   "outputs": [],
   "source": [
    "#Create your feature matrix X and target vector y. Your target is \"severe_damage\"\n",
    "target=\"severe_damage\"\n",
    "X = df.drop(columns=target)\n",
    "y = df[target]\n",
    "print(\"X shape:\", X.shape)\n",
    "print(\"y shape:\", y.shape)"
   ]
  },
  {
   "cell_type": "code",
   "execution_count": null,
   "metadata": {},
   "outputs": [],
   "source": [
    "#Divide your dataset into training and validation sets using a randomized split. Your validation set should be 20% of your data\n",
    "X_train, X_val, y_train, y_val = train_test_split(\n",
    "    X, y, test_size=0.2, random_state=42)\n",
    "print(\"X_train shape:\", X_train.shape)\n",
    "print(\"y_train shape:\", y_train.shape)\n",
    "print(\"X_val shape:\", X_val.shape)\n",
    "print(\"y_val shape:\", y_val.shape)"
   ]
  },
  {
   "cell_type": "code",
   "execution_count": null,
   "metadata": {},
   "outputs": [],
   "source": [
    "#Calculate the baseline accuracy score for your model\n",
    "acc_baseline =y_train.value_counts(normalize=True).max()\n",
    "print(\"Baseline Accuracy:\", round(acc_baseline, 2))"
   ]
  },
  {
   "cell_type": "markdown",
   "metadata": {},
   "source": [
    "Iterate\n"
   ]
  },
  {
   "cell_type": "code",
   "execution_count": null,
   "metadata": {},
   "outputs": [],
   "source": [
    "#Create a model model_lr that uses logistic regression to predict building damage. Be sure to include an appropriate encoder for categorical features\n",
    "model_lr = make_pipeline(\n",
    "    OneHotEncoder(use_cat_names=True), LogisticRegression()\n",
    ")\n",
    "model_lr.fit(X_train, y_train)"
   ]
  },
  {
   "cell_type": "code",
   "execution_count": null,
   "metadata": {},
   "outputs": [],
   "source": [
    "# Calculate training and validation accuracy score for model_lr\n",
    "lr_train_acc = accuracy_score(y_train, model_lr.predict(X_train))\n",
    "lr_val_acc = model_lr.score(X_val, y_val)\n",
    "\n",
    "print(\"Logistic Regression, Training Accuracy Score:\", lr_train_acc)\n",
    "print(\"Logistic Regression, Validation Accuracy Score:\", lr_val_acc)"
   ]
  },
  {
   "cell_type": "code",
   "execution_count": null,
   "metadata": {},
   "outputs": [],
   "source": [
    "#Perhaps a decision tree model will perform better than logistic regression, but what's the best hyperparameter value for max_depth? Create a for loop to train and evaluate the model model_dt at all depths from 1 to 15. Be sure to use an appropriate encoder for your model, and to record its training and validation accuracy scores at every depth. The grader will evaluate your validation accuracy scores only\n",
    "depth_hyperparams = range(1, 16)\n",
    "training_acc = []\n",
    "validation_acc = []\n",
    "for d in depth_hyperparams:\n",
    "    model_dt = make_pipeline(\n",
    "        OrdinalEncoder(), \n",
    "        DecisionTreeClassifier(max_depth=d,random_state=42)\n",
    "    )\n",
    "    model_dt.fit(X_train, y_train)\n",
    "    # Calculate training accuracy score and append to `training_acc`\n",
    "    training_acc.append(model_dt.score(X_train, y_train))\n",
    "    # Calculate validation accuracy score and append to `training_acc`\n",
    "    validation_acc.append(model_dt.score(X_val, y_val))\n",
    "\n",
    "print(\"Training Accuracy Scores:\", training_acc[:6])\n",
    "print(\"Validation Accuracy Scores:\", validation_acc[:6])"
   ]
  },
  {
   "cell_type": "code",
   "execution_count": null,
   "metadata": {},
   "outputs": [],
   "source": [
    "#Using the values in training_acc and validation_acc, plot the validation curve for model_dt. Label your x-axis \"Max Depth\" and your y-axis \"Accuracy Score\". Use the title \"Validation Curve, Decision Tree Model\", and include a legend.\n",
    "plt.plot(depth_hyperparams, training_acc, label=\"training\")\n",
    "plt.plot(depth_hyperparams, validation_acc, label=\"validation\")\n",
    "plt.xlabel(\"Max depth\")\n",
    "plt.ylabel(\"accuracy score\")\n",
    "plt.legend()\n",
    "# Don't delete the code below 👇\n",
    "plt.savefig(\"images/4-5-15.png\", dpi=150)\n"
   ]
  },
  {
   "cell_type": "code",
   "execution_count": null,
   "metadata": {},
   "outputs": [],
   "source": [
    "#Build and train a new decision tree model final_model_dt, using the value for max_depth that yielded the best validation accuracy score in your plot above\n",
    "final_model_dt =make_pipeline(\n",
    "    OrdinalEncoder(), DecisionTreeClassifier(max_depth=10,random_state=42)\n",
    ")\n",
    "# Fit model to training data\n",
    "final_model_dt.fit(X_val, y_val)\n"
   ]
  },
  {
   "attachments": {},
   "cell_type": "markdown",
   "metadata": {},
   "source": [
    "Evaluate"
   ]
  },
  {
   "cell_type": "code",
   "execution_count": null,
   "metadata": {},
   "outputs": [],
   "source": [
    "#How does your model perform on the test set? First, read the CSV file \"data/kavrepalanchok-test-features.csv\" into the DataFrame X_test. Next, use final_model_dt to generate a list of test predictions y_test_pred. Finally, submit your test predictions to the grader to see how your model performs\n",
    "X_test = pd.read_csv(\"data/kavrepalanchok-test-features.csv\", index_col=\"b_id\")\n",
    "y_test_pred = final_model_dt.predict(X_test)\n",
    "y_test_pred[:5]"
   ]
  },
  {
   "cell_type": "code",
   "execution_count": null,
   "metadata": {},
   "outputs": [],
   "source": [
    "What are the most important features for final_model_dt? Create a Series Gini feat_imp, where the index labels are the feature names for your dataset and the values are the feature importances for your model. Be sure that the Series is sorted from smallest to largest feature importance\n",
    "features = X_train.columns\n",
    "importances = final_model_dt.named_steps[\"decisiontreeclassifier\"].feature_importances_\n",
    "feat_imp = pd.Series(importances, index=features).sort_values()\n",
    "feat_imp.head()"
   ]
  },
  {
   "cell_type": "code",
   "execution_count": null,
   "metadata": {},
   "outputs": [],
   "source": [
    "# Create horizontal bar chart of feature importances\n",
    "feat_imp.plot(kind=\"barh\")\n",
    "plt.xlabel(\"Gini Importance\")\n",
    "plt.ylabel(\"Label\")\n",
    "plt.title(\"Kavrepalanchok Decision Tree, Feature Importance\")\n",
    "# Don't delete the code below 👇\n",
    "plt.tight_layout()\n",
    "plt.savefig(\"images/4-5-19.png\", dpi=150)"
   ]
  }
 ],
 "metadata": {
  "kernelspec": {
   "display_name": "Python 3",
   "language": "python",
   "name": "python3"
  },
  "language_info": {
   "name": "python",
   "version": "3.10.9"
  },
  "orig_nbformat": 4,
  "vscode": {
   "interpreter": {
    "hash": "3863b2c5477f4dfe9734428f9b5659b9c57b4995a7858c229730ccb9c81899f8"
   }
  }
 },
 "nbformat": 4,
 "nbformat_minor": 2
}
