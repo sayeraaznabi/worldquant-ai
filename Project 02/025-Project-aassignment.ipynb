{
 "cells": [
  {
   "cell_type": "code",
   "execution_count": null,
   "metadata": {},
   "outputs": [],
   "source": [
    "# Import libraries here\n",
    "from glob import glob\n",
    "import matplotlib.pyplot as plt\n",
    "import plotly.express as px\n",
    "import pandas as pd\n",
    "from category_encoders import OneHotEncoder\n",
    "from sklearn.impute import SimpleImputer\n",
    "from sklearn.linear_model import LinearRegression, Ridge  # noqa F401\n",
    "from sklearn.metrics import mean_absolute_error\n",
    "from sklearn.pipeline import make_pipeline"
   ]
  },
  {
   "cell_type": "markdown",
   "metadata": {},
   "source": [
    "Prepare Data\n"
   ]
  },
  {
   "cell_type": "markdown",
   "metadata": {},
   "source": [
    "Import"
   ]
  },
  {
   "cell_type": "code",
   "execution_count": null,
   "metadata": {},
   "outputs": [],
   "source": [
    "# Write a wrangle function that takes the name of a CSV file as input and returns a DataFrame. The function should do the following steps:\n",
    "\n",
    "#Subset the data in the CSV file and return only apartments in Mexico City (\"Distrito Federal\") that cost less than $100,000.\n",
    "#Remove outliers by trimming the bottom and top 10% of properties in terms of \"surface_covered_in_m2\".\n",
    "#Create separate \"lat\" and \"lon\" columns.\n",
    "#Mexico City is divided into 16 boroughs. Create a \"borough\" feature from the \"place_with_parent_names\" column.\n",
    "#Drop columns that are more than 50% null values.\n",
    "#Drop columns containing low- or high-cardinality categorical values.\n",
    "#Drop any columns that would constitute leakage for the target \"price_aprox_usd\".\n",
    "#Drop any columns that would create issues of multicollinearity.\n",
    "# Build your `wrangle` function\n",
    "\n",
    "def wrangle(filepath):\n",
    "    #Import file\n",
    "    df=pd.read_csv(filepath)\n",
    "    \n",
    "    #Subset Data: Apartment in distrito Federal\n",
    "    mask_ba=df['place_with_parent_names'].str.contains('Distrito Federal')\n",
    "    mask_apt=df['property_type']=='apartment'\n",
    "    mask_price=df['price_aprox_usd']<100000\n",
    "    df=df[mask_ba & mask_apt & mask_price]\n",
    "    \n",
    "    #Remove outliners\n",
    "    low,high=df['surface_covered_in_m2'].quantile([0.1,0.9])\n",
    "    mask_area=df['surface_covered_in_m2'].between(low,high)\n",
    "    df=df[mask_area]\n",
    "    \n",
    "    #split lat-lon column\n",
    "    df[['lat','lon']]=df['lat-lon'].str.split(',',expand=True).astype(float)\n",
    "    df.drop(columns='lat-lon', inplace=True)\n",
    "    \n",
    "    #Create borough\n",
    "    df['borough'] = df['place_with_parent_names'].str.split('|', expand=True)[1]\n",
    "    df.drop(columns='place_with_parent_names', inplace=True)\n",
    "    \n",
    "    \n",
    "    #Drop features with high null count\n",
    "    df.drop(columns=['surface_total_in_m2', 'price_usd_per_m2','floor','rooms', 'expenses'], inplace=True)\n",
    "    \n",
    "    #low and high cardinality\n",
    "    df.drop(columns=['operation', 'property_type','currency', 'properati_url'], inplace=True)\n",
    "    \n",
    "    #drop leakage value\n",
    "    df.drop(columns=['price', 'price_aprox_local_currency', 'price_per_m2',], inplace=True)\n",
    "    \n",
    "    \n",
    "    return df "
   ]
  },
  {
   "cell_type": "code",
   "execution_count": null,
   "metadata": {},
   "outputs": [],
   "source": [
    "#Use glob to create the list files. It should contain the filenames of all the Mexico City real estate CSVs in the ./data directory, except for mexico-city-test-features.csv\n",
    "files=glob('data/mexico-city-real-estate-*.csv')\n",
    "files"
   ]
  },
  {
   "cell_type": "code",
   "execution_count": null,
   "metadata": {},
   "outputs": [],
   "source": [
    "# Combine your wrangle function, a list comprehension, and pd.concat to create a DataFrame df. It should contain all the properties from the five CSVs in files.\n",
    "df = pd.concat(frames, ignore_index=True)\n",
    "df.head(10)"
   ]
  },
  {
   "cell_type": "markdown",
   "metadata": {},
   "source": [
    "Explore\n"
   ]
  },
  {
   "cell_type": "code",
   "execution_count": null,
   "metadata": {},
   "outputs": [],
   "source": [
    "#Create a histogram showing the distribution of apartment prices (\"price_aprox_usd\") in df. Be sure to label the x-axis \"Area [sq meters]\", the y-axis \"Count\", and give it the title \"Distribution of Apartment Prices\". Use Matplotlib (plt)\n",
    "# Build histogram\n",
    "plt.hist(df['price_aprox_usd'])\n",
    "\n",
    "\n",
    "# Label axes\n",
    "plt.xlabel('Area [sq meters]')\n",
    "plt.ylabel('Count')\n",
    "\n",
    "# Add title\n",
    "plt.title('Distribution of Apartment Prices')\n",
    "\n",
    "# Don't delete the code below 👇\n",
    "plt.savefig(\"images/2-5-4.png\", dpi=150)"
   ]
  },
  {
   "cell_type": "code",
   "execution_count": null,
   "metadata": {},
   "outputs": [],
   "source": [
    "#Create a scatter plot that shows apartment price (\"price_aprox_usd\") as a function of apartment size (\"surface_covered_in_m2\"). Be sure to label your axes \"Price [USD]\" and \"Area [sq meters]\", respectively. Your plot should have the title \"Mexico City: Price vs. Area\". Use Matplotlib (plt)\n",
    "# Build scatter plot\n",
    "plt.scatter(x=df['surface_covered_in_m2'], y=df['price_aprox_usd'])\n",
    "\n",
    "\n",
    "# Label axes\n",
    "plt.xlabel('Area[sq meters]')\n",
    "plt.ylabel('Price [USD]')\n",
    "\n",
    "# Add title\n",
    "plt.title('Mexico City: Price vs Area')\n",
    "\n",
    "# Don't delete the code below 👇\n",
    "plt.savefig(\"images/2-5-5.png\", dpi=150)"
   ]
  },
  {
   "cell_type": "code",
   "execution_count": null,
   "metadata": {},
   "outputs": [],
   "source": [
    "#Create a Mapbox scatter plot that shows the location of the apartments in your dataset and represent their price using color.\n",
    "\n",
    "What areas of the city seem to have higher real estate prices?\n",
    "# Plot Mapbox location and price\n",
    "fig = px.scatter_mapbox(\n",
    "    df,\n",
    "    lat='lat',\n",
    "    lon='lon',\n",
    "    center={\"lat\": 19.43, \"lon\": -99.13},  # Map will be centered on Mexico City\n",
    "    width=600,  # Width of map\n",
    "    height=600,  # Height of map\n",
    "    hover_data=[\"price_aprox_usd\"],  # Display price when hovering mouse over house\n",
    ")\n",
    "\n",
    "fig.update_layout(mapbox_style=\"open-street-map\")\n",
    "\n",
    "fig.show()"
   ]
  },
  {
   "cell_type": "markdown",
   "metadata": {},
   "source": [
    "Split"
   ]
  },
  {
   "cell_type": "code",
   "execution_count": null,
   "metadata": {},
   "outputs": [],
   "source": [
    "# Split data into feature matrix `X_train` and target vector `y_train`.\n",
    "target='price_aprox_usd'\n",
    "feature=['surface_covered_in_m2', 'lat', 'lon','borough']\n",
    "X_train = df[feature]\n",
    "y_train = df[target]"
   ]
  },
  {
   "cell_type": "markdown",
   "metadata": {},
   "source": [
    "Build Model"
   ]
  },
  {
   "cell_type": "markdown",
   "metadata": {},
   "source": [
    "Baseline"
   ]
  },
  {
   "cell_type": "code",
   "execution_count": null,
   "metadata": {},
   "outputs": [],
   "source": [
    "#Calculate the baseline mean absolute error for your model.\n",
    "y_mean = y_train.mean()\n",
    "y_pred_baseline = [y_mean]*len(y_train)\n",
    "baseline_mae =mean_absolute_error(y_train, y_pred_baseline)\n",
    "print(\"Mean apt price:\", y_mean)\n",
    "print(\"Baseline MAE:\", baseline_mae)"
   ]
  },
  {
   "cell_type": "markdown",
   "metadata": {},
   "source": [
    "Iterate"
   ]
  },
  {
   "cell_type": "code",
   "execution_count": null,
   "metadata": {},
   "outputs": [],
   "source": [
    "# Build Model\n",
    "model = make_pipeline(\n",
    "OneHotEncoder(),\n",
    "SimpleImputer(),\n",
    "Ridge()\n",
    ")\n",
    "# Fit model\n",
    "model.fit(X_train, y_train)"
   ]
  },
  {
   "cell_type": "markdown",
   "metadata": {},
   "source": [
    "Evaluate"
   ]
  },
  {
   "cell_type": "code",
   "execution_count": null,
   "metadata": {},
   "outputs": [],
   "source": [
    "# Read the CSV file mexico-city-test-features.csv into the DataFrame X_test\n",
    "X_test = pd.read_csv('data/mexico-city-test-features.csv')\n",
    "print(X_test.info())\n",
    "X_test.head()"
   ]
  },
  {
   "cell_type": "code",
   "execution_count": null,
   "metadata": {},
   "outputs": [],
   "source": [
    "#Use your model to generate a Series of predictions for X_test. When you submit your predictions to the grader, it will calculate the mean absolute error for your model.\n",
    "y_test_pred = pd.Series(model.predict(X_test))\n",
    "y_test_pred.head()"
   ]
  },
  {
   "cell_type": "markdown",
   "metadata": {},
   "source": [
    "Communicate Result"
   ]
  },
  {
   "cell_type": "code",
   "execution_count": null,
   "metadata": {},
   "outputs": [],
   "source": [
    "#Create a Series named feat_imp. The index should contain the names of all the features your model considers when making predictions; the values should be the coefficient values associated with each feature. The Series should be sorted ascending by absolute value.\n",
    "coefficients = model.named_steps['ridge'].coef_\n",
    "feature_names = model.named_steps['onehotencoder'].get_feature_names()\n",
    "feat_imp = pd.Series(coefficients, index=feature_names).abs().sort_values()\n",
    "feat_imp"
   ]
  },
  {
   "cell_type": "code",
   "execution_count": null,
   "metadata": {},
   "outputs": [],
   "source": [
    "#Create a horizontal bar chart that shows the 10 most influential coefficients for your model. Be sure to label your x- and y-axis \"Importance [USD]\" and \"Feature\", respectively, and give your chart the title \"Feature Importances for Apartment Price\"\n",
    "# Build bar chart\n",
    "feat_imp.plot(kind='barh')\n",
    "\n",
    "\n",
    "# Label axes\n",
    "\n",
    "plt.xlabel('Importance [USD]')\n",
    "plt.ylabel('Feature')\n",
    "# Add title\n",
    "plt.title('Feature Importance for Apartment Price')\n",
    "\n",
    "# Don't delete the code below 👇\n",
    "plt.savefig(\"images/2-5-13.png\", dpi=150)\n"
   ]
  }
 ],
 "metadata": {
  "kernelspec": {
   "display_name": "Python 3.10.5 64-bit (windows store)",
   "language": "python",
   "name": "python3"
  },
  "language_info": {
   "name": "python",
   "version": "3.10.5"
  },
  "orig_nbformat": 4,
  "vscode": {
   "interpreter": {
    "hash": "3863b2c5477f4dfe9734428f9b5659b9c57b4995a7858c229730ccb9c81899f8"
   }
  }
 },
 "nbformat": 4,
 "nbformat_minor": 2
}
