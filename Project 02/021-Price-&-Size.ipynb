{
 "cells": [
  {
   "cell_type": "code",
   "execution_count": null,
   "metadata": {},
   "outputs": [],
   "source": [
    "import warnings\n",
    "\n",
    "import matplotlib.pyplot as plt\n",
    "import pandas as pd\n",
    "import wqet_grader\n",
    "from IPython.display import VimeoVideo\n",
    "from sklearn.linear_model import LinearRegression\n",
    "from sklearn.metrics import mean_absolute_error\n",
    "from sklearn.utils.validation import check_is_fitted\n",
    "\n",
    "warnings.simplefilter(action=\"ignore\", category=FutureWarning)\n",
    "wqet_grader.init(\"Project 2 Assessment\")"
   ]
  },
  {
   "cell_type": "markdown",
   "metadata": {},
   "source": [
    "Prepare Data"
   ]
  },
  {
   "cell_type": "markdown",
   "metadata": {},
   "source": [
    "Import\n"
   ]
  },
  {
   "cell_type": "code",
   "execution_count": null,
   "metadata": {},
   "outputs": [],
   "source": [
    "#Write a function named wrangle that takes a file path as an argument and returns a DataFrame\n",
    "def wrangle(filepath):\n",
    "    #Read CSV file to dataframe\n",
    "    df=pd.read_csv(filepath)\n",
    "    \n",
    "    #Subset to Properties in \"Capital Federal\"\n",
    "    mask_ba=df['place_with_parent_names'].str.contains('Capital Federal')\n",
    "    \n",
    "    #Subset to appartment\n",
    "    mask_apt=df['property_type']=='apartment'\n",
    "    \n",
    "    #subset to properties where price_aprox_usd <400000\n",
    "    mask_price=df['price_aprox_usd']<400_000\n",
    "    df=df[mask_ba & mask_apt& mask_price]\n",
    "    \n",
    "    #Remove outlier in surface_covered_in_m2\n",
    "    low,high=df['surface_covered_in_m2'].quantile([0.1,0.9])\n",
    "    mask_area=df['surface_covered_in_m2'].between(low,high)\n",
    "    df=df[mask_area]\n",
    "    \n",
    "    return df"
   ]
  },
  {
   "cell_type": "code",
   "execution_count": null,
   "metadata": {},
   "outputs": [],
   "source": [
    "#Use your wrangle function to create a DataFrame df from the CSV file data/buenos-aires-real-estate-1.csv\n",
    "df = wrangle('data/buenos-aires-real-estate-1.csv')\n",
    "print(\"df shape:\", df.shape)\n",
    "df.head()"
   ]
  },
  {
   "cell_type": "code",
   "execution_count": null,
   "metadata": {},
   "outputs": [],
   "source": [
    "#Add to your wrangle function so that the DataFrame it returns only includes apartments in Buenos Aires (\"Capital Federal\") that cost less than $400,000 USD. Then recreate df from data/buenos-aires-real-estate-1.csv by re-running the cells above.\n",
    "mask_ba=df['place_with_parent_names'].str.contains('Capital Federal')\n",
    "mask_apt=df['property_type']=='apartment'"
   ]
  },
  {
   "cell_type": "code",
   "execution_count": null,
   "metadata": {},
   "outputs": [],
   "source": [
    "#Create a histogram of \"surface_covered_in_m2\". Make sure that the x-axis has the label \"Area [sq meters]\" and the plot has the title \"Distribution of Apartment Sizes\"\n",
    "plt.hist(df['surface_covered_in_m2'])\n",
    "plt.xlabel('Area [sq meters]')\n",
    "plt.title('Distribution 0f Apartment Sizes')"
   ]
  },
  {
   "cell_type": "code",
   "execution_count": null,
   "metadata": {},
   "outputs": [],
   "source": [
    "#Calculate the summary statistics for df using the describe method.\n",
    "df['surface_covered_in_m2'].describe()"
   ]
  },
  {
   "cell_type": "code",
   "execution_count": null,
   "metadata": {},
   "outputs": [],
   "source": [
    "#add to your wrangle function so that it removes observations that are outliers in the \"surface_covered_in_m2\" column. Specifically, all observations should fall between the 0.1 and 0.9 quantiles for \"surface_covered_in_m2\"\n",
    "low,high=df['surface_covered_in_m2'].quantile([0.1,0.9])\n",
    "mask_area=df['surface_covered_in_m2'].between(low,high)\n",
    "mask_area.head()"
   ]
  },
  {
   "cell_type": "code",
   "execution_count": null,
   "metadata": {},
   "outputs": [],
   "source": [
    "# Create a scatter plot that shows price (\"price_aprox_usd\") vs area (\"surface_covered_in_m2\") in our dataset. Make sure to label your x-axis \"Area [sq meters]\" and your y-axis \"Price [USD]\"\n",
    "plt.scatter(x=df['surface_covered_in_m2'],y=df['price_aprox_usd'])\n",
    "plt.xlabel('Area [sq meters]')\n",
    "plt.ylabel('Price [USD]')\n",
    "plt.title('Buenos Aires: Price vs Area')"
   ]
  },
  {
   "cell_type": "markdown",
   "metadata": {},
   "source": [
    "Split"
   ]
  },
  {
   "cell_type": "code",
   "execution_count": null,
   "metadata": {},
   "outputs": [],
   "source": [
    "#Create the feature matrix named X_train, which you'll use to train your model. It should contain one feature only: [\"surface_covered_in_m2\"]. Remember that your feature matrix should always be two-dimensional.\n",
    "features = [\"surface_covered_in_m2\"]\n",
    "X_train = df[features]\n",
    "X_train.head()\n",
    "#X_train.shape"
   ]
  },
  {
   "cell_type": "code",
   "execution_count": null,
   "metadata": {},
   "outputs": [],
   "source": [
    "#Create the target vector named y_train, which you'll use to train your model. Your target should be \"price_aprox_usd\". Remember that, in most cases, your target vector should be one-dimensional\n",
    "target = \"price_aprox_usd\"\n",
    "y_train = df[target]\n",
    "y_train.head()\n",
    "y_train.shape"
   ]
  },
  {
   "cell_type": "markdown",
   "metadata": {},
   "source": [
    "Build Model\n"
   ]
  },
  {
   "cell_type": "markdown",
   "metadata": {},
   "source": [
    "Baseline"
   ]
  },
  {
   "cell_type": "code",
   "execution_count": 1,
   "metadata": {},
   "outputs": [
    {
     "ename": "NameError",
     "evalue": "name 'y_train' is not defined",
     "output_type": "error",
     "traceback": [
      "\u001b[1;31m---------------------------------------------------------------------------\u001b[0m",
      "\u001b[1;31mNameError\u001b[0m                                 Traceback (most recent call last)",
      "\u001b[1;32mf:\\world-quant DS\\Project 02\\021-Price-&-Size.ipynb Cell 16'\u001b[0m in \u001b[0;36m<cell line: 2>\u001b[1;34m()\u001b[0m\n\u001b[0;32m      <a href='vscode-notebook-cell:/f%3A/world-quant%20DS/Project%2002/021-Price-%26-Size.ipynb#ch0000017?line=0'>1</a>\u001b[0m \u001b[39m#Calculate the mean of your target vector y_train and assign it to the variable y_mean\u001b[39;00m\n\u001b[1;32m----> <a href='vscode-notebook-cell:/f%3A/world-quant%20DS/Project%2002/021-Price-%26-Size.ipynb#ch0000017?line=1'>2</a>\u001b[0m y_mean \u001b[39m=\u001b[39m y_train\u001b[39m.\u001b[39mmean()\n\u001b[0;32m      <a href='vscode-notebook-cell:/f%3A/world-quant%20DS/Project%2002/021-Price-%26-Size.ipynb#ch0000017?line=2'>3</a>\u001b[0m y_mean\n",
      "\u001b[1;31mNameError\u001b[0m: name 'y_train' is not defined"
     ]
    }
   ],
   "source": [
    "#Calculate the mean of your target vector y_train and assign it to the variable y_mean\n",
    "y_mean = y_train.mean()\n",
    "y_mean"
   ]
  },
  {
   "cell_type": "code",
   "execution_count": null,
   "metadata": {},
   "outputs": [],
   "source": [
    "#Create a list named y_pred_baseline that contains the value of y_mean repeated so that it's the same length at y\n",
    "y_pred_baseline = [y_mean]*len(y_train)\n",
    "#y_pred_baseline[:5]\n",
    "#len(y_pred_baseline)\n",
    "#len(y_train)\n",
    "y_pred_baseline == len(y_train)"
   ]
  },
  {
   "cell_type": "code",
   "execution_count": null,
   "metadata": {},
   "outputs": [],
   "source": [
    "#Add a line to the plot below that shows the relationship between the observations X_train and our dumb model's predictions y_pred_baseline. Be sure that the line color is orange, and that it has the label \"Baseline Model\"\n",
    "plt.plot(X_train, y_pred_baseline, color='orange', label= 'Baseline Model')\n",
    "plt.scatter(X_train, y_train)\n",
    "plt.xlabel(\"Area [sq meters]\")\n",
    "plt.ylabel(\"Price [USD]\")\n",
    "plt.title(\"Buenos Aires: Price vs. Area\")\n",
    "plt.legend();"
   ]
  },
  {
   "cell_type": "code",
   "execution_count": null,
   "metadata": {},
   "outputs": [],
   "source": [
    "#Calculate the baseline mean absolute error for your predictions in y_pred_baseline as compared to the true targets in y\n",
    "mae_baseline = mean_absolute_error(y_train, y_pred_baseline)\n",
    "\n",
    "print(\"Mean apt price\", round(y_mean, 2))\n",
    "print(\"Baseline MAE:\", round(mae_baseline, 2))"
   ]
  },
  {
   "cell_type": "markdown",
   "metadata": {},
   "source": [
    "Iterate"
   ]
  },
  {
   "cell_type": "code",
   "execution_count": null,
   "metadata": {},
   "outputs": [],
   "source": [
    "#Instantiate a LinearRegression model named model\n",
    "model = LinearRegression()"
   ]
  },
  {
   "cell_type": "code",
   "execution_count": null,
   "metadata": {},
   "outputs": [],
   "source": [
    "#Fit your model to the data, X_train and y_train\n",
    "model.fit(X_train, y_train)"
   ]
  },
  {
   "cell_type": "code",
   "execution_count": null,
   "metadata": {},
   "outputs": [],
   "source": [
    "#Using your model's predict method, create a list of predictions for the observations in your feature matrix X_train. Name this array y_pred_training\n",
    "y_pred_training =model.predict(X_train)\n",
    "y_pred_training[:5]"
   ]
  },
  {
   "cell_type": "code",
   "execution_count": null,
   "metadata": {},
   "outputs": [],
   "source": [
    "#Calculate your training mean absolute error for your predictions in y_pred_training as compared to the true targets in y_train\n",
    "mae_training = mean_absolute_error(y_train, y_pred_training)\n",
    "print(\"Training MAE:\", round(mae_training, 2))"
   ]
  },
  {
   "cell_type": "code",
   "execution_count": null,
   "metadata": {},
   "outputs": [],
   "source": [
    "#Run the code below to import your test data buenos-aires-test-features.csv into a DataFrame and generate a Series of predictions using your model. Then run the following cell to submit your predictions to the grader\n",
    "X_test = pd.read_csv(\"data/buenos-aires-test-features.csv\")[features]\n",
    "y_pred_test = pd.Series(model.predict(X_test))\n",
    "y_pred_test.head()"
   ]
  },
  {
   "cell_type": "markdown",
   "metadata": {},
   "source": [
    "Communication Result"
   ]
  },
  {
   "cell_type": "code",
   "execution_count": null,
   "metadata": {},
   "outputs": [],
   "source": [
    "#Extract the intercept from your model, and assign it to the variable intercept\n",
    "intercept =round(model.intercept_,2)\n",
    "print(\"Model Intercept:\", intercept)\n",
    "assert any([isinstance(intercept, int), isinstance(intercept, float)])"
   ]
  },
  {
   "cell_type": "code",
   "execution_count": null,
   "metadata": {},
   "outputs": [],
   "source": [
    "#Extract the coefficient associated \"surface_covered_in_m2\" in your model, and assign it to the variable coefficient\n",
    "coefficient = round(model.coef_[0],2)\n",
    "print('Model coefficient for \"surface_covered_in_m2\":', coefficient)\n",
    "assert any([isinstance(coefficient, int), isinstance(coefficient, float)])"
   ]
  },
  {
   "cell_type": "code",
   "execution_count": null,
   "metadata": {},
   "outputs": [],
   "source": [
    "print(f'apt_price= {intercept}+ {coefficient}*surface_covered')"
   ]
  },
  {
   "cell_type": "code",
   "execution_count": 2,
   "metadata": {},
   "outputs": [
    {
     "ename": "NameError",
     "evalue": "name 'plt' is not defined",
     "output_type": "error",
     "traceback": [
      "\u001b[1;31m---------------------------------------------------------------------------\u001b[0m",
      "\u001b[1;31mNameError\u001b[0m                                 Traceback (most recent call last)",
      "\u001b[1;32mf:\\world-quant DS\\Project 02\\021-Price-&-Size.ipynb Cell 30'\u001b[0m in \u001b[0;36m<cell line: 2>\u001b[1;34m()\u001b[0m\n\u001b[0;32m      <a href='vscode-notebook-cell:/f%3A/world-quant%20DS/Project%2002/021-Price-%26-Size.ipynb#ch0000032?line=0'>1</a>\u001b[0m \u001b[39m#Add a line to the plot below that shows the relationship between the observations in X_train and your model's predictions y_pred_training. Be sure that the line color is red, and that it has the label \"Linear Model\"\u001b[39;00m\n\u001b[1;32m----> <a href='vscode-notebook-cell:/f%3A/world-quant%20DS/Project%2002/021-Price-%26-Size.ipynb#ch0000032?line=1'>2</a>\u001b[0m plt\u001b[39m.\u001b[39mplot(X_train, model\u001b[39m.\u001b[39mpredict(X_train), color\u001b[39m=\u001b[39m \u001b[39m'\u001b[39m\u001b[39mred\u001b[39m\u001b[39m'\u001b[39m, label\u001b[39m=\u001b[39m\u001b[39m'\u001b[39m\u001b[39mLinear Model\u001b[39m\u001b[39m'\u001b[39m)\n\u001b[0;32m      <a href='vscode-notebook-cell:/f%3A/world-quant%20DS/Project%2002/021-Price-%26-Size.ipynb#ch0000032?line=2'>3</a>\u001b[0m plt\u001b[39m.\u001b[39mscatter(X_train, y_train)\n\u001b[0;32m      <a href='vscode-notebook-cell:/f%3A/world-quant%20DS/Project%2002/021-Price-%26-Size.ipynb#ch0000032?line=3'>4</a>\u001b[0m plt\u001b[39m.\u001b[39mxlabel(\u001b[39m\"\u001b[39m\u001b[39msurface covered [sq meters]\u001b[39m\u001b[39m\"\u001b[39m)\n",
      "\u001b[1;31mNameError\u001b[0m: name 'plt' is not defined"
     ]
    }
   ],
   "source": [
    "#Add a line to the plot below that shows the relationship between the observations in X_train and your model's predictions y_pred_training. Be sure that the line color is red, and that it has the label \"Linear Model\"\n",
    "plt.plot(X_train, model.predict(X_train), color= 'red', label='Linear Model')\n",
    "plt.scatter(X_train, y_train)\n",
    "plt.xlabel(\"surface covered [sq meters]\")\n",
    "plt.ylabel(\"price [usd]\")\n",
    "plt.legend();"
   ]
  }
 ],
 "metadata": {
  "kernelspec": {
   "display_name": "Python 3.10.5 64-bit (windows store)",
   "language": "python",
   "name": "python3"
  },
  "language_info": {
   "name": "python",
   "version": "3.10.5"
  },
  "orig_nbformat": 4,
  "vscode": {
   "interpreter": {
    "hash": "3863b2c5477f4dfe9734428f9b5659b9c57b4995a7858c229730ccb9c81899f8"
   }
  }
 },
 "nbformat": 4,
 "nbformat_minor": 2
}
