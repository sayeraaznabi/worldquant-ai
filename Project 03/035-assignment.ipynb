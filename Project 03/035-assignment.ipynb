{
 "cells": [
  {
   "cell_type": "markdown",
   "metadata": {},
   "source": [
    "Air Quality in Dar er Salaam TZ\n"
   ]
  },
  {
   "cell_type": "code",
   "execution_count": null,
   "metadata": {},
   "outputs": [],
   "source": [
    "import warnings\n",
    "\n",
    "import wqet_grader\n",
    "\n",
    "warnings.simplefilter(action=\"ignore\", category=FutureWarning)\n",
    "wqet_grader.init(\"Project 3 Assessment\")"
   ]
  },
  {
   "cell_type": "code",
   "execution_count": null,
   "metadata": {},
   "outputs": [],
   "source": [
    "# Import libraries here\n",
    "from pymongo import MongoClient\n",
    "import pandas as pd\n",
    "from pprint import PrettyPrinter\n",
    "import matplotlib.pyplot as plt\n",
    "from statsmodels.graphics.tsaplots import plot_acf,plot_pacf\n",
    "from sklearn.metrics import mean_absolute_error\n",
    "from statsmodels.tsa.ar_model import AutoReg\n",
    "import plotly.express as px"
   ]
  },
  {
   "cell_type": "markdown",
   "metadata": {},
   "source": [
    "Prepare Data"
   ]
  },
  {
   "cell_type": "markdown",
   "metadata": {},
   "source": [
    "Connect"
   ]
  },
  {
   "cell_type": "code",
   "execution_count": null,
   "metadata": {},
   "outputs": [],
   "source": [
    "#Connect to MongoDB server running at host \"localhost\" on port 27017. Then connect to the \"air-quality\" database and assign the collection for Dar es Salaam to the variable name dar\n",
    "client =  MongoClient(host='localhost', port=27017)\n",
    "db =client['air-quality']\n",
    "dar = db['dar-es-salaam']"
   ]
  },
  {
   "cell_type": "code",
   "execution_count": null,
   "metadata": {},
   "outputs": [],
   "source": [
    "dar.find_one({})"
   ]
  },
  {
   "cell_type": "code",
   "execution_count": null,
   "metadata": {},
   "outputs": [],
   "source": [
    "#Determine the numbers assigned to all the sensor sites in the Dar es Salaam collection. Your submission should be a list of integers\n",
    "sites = dar.distinct(\"metadata.site\")\n",
    "sites"
   ]
  },
  {
   "cell_type": "code",
   "execution_count": null,
   "metadata": {},
   "outputs": [],
   "source": [
    "pp = PrettyPrinter(indent=2)"
   ]
  },
  {
   "cell_type": "code",
   "execution_count": null,
   "metadata": {},
   "outputs": [],
   "source": [
    "#Determine which site in the Dar es Salaam collection has the most sensor readings (of any type, not just PM2.5 readings). You submission readings_per_site should be a list of dictionaries that follows this format:\n",
    "result = dar.aggregate(\n",
    "    [\n",
    "        {\"$group\":{\"_id\": \"$metadata.site\", \"count\":{\"$count\": {}}}}\n",
    "    ]\n",
    ")\n",
    "readings_per_site = list(result)\n",
    "readings_per_site"
   ]
  },
  {
   "cell_type": "code",
   "execution_count": null,
   "metadata": {},
   "outputs": [],
   "source": [
    "dar.distinct(\"metadata.measurement\")"
   ]
  },
  {
   "cell_type": "markdown",
   "metadata": {},
   "source": [
    "Import"
   ]
  },
  {
   "cell_type": "code",
   "execution_count": null,
   "metadata": {},
   "outputs": [],
   "source": [
    "#Create a wrangle function that will extract the PM2.5 readings from the site that has the most total readings in the Dar es Salaam collection. Your function should do the following steps:\n",
    "#Localize reading time stamps to the timezone for \"Africa/Dar_es_Salaam\".\n",
    "#Remove all outlier PM2.5 readings that are above 100.\n",
    "#Resample the data to provide the mean PM2.5 reading for each hour.\n",
    "#Impute any missing values using the forward-will method.\n",
    "#Return a Series y\n",
    "def wrangle(collection):\n",
    "    results = collection.find(\n",
    "        {\"metadata.site\": 11, \"metadata.measurement\": \"P2\"},\n",
    "        projection={\"P2\": 1, \"timestamp\": 1, \"_id\":0},\n",
    "    )\n",
    "\n",
    "    y =pd.DataFrame(results).set_index(\"timestamp\")\n",
    "    \n",
    "    #Remove outlier over 100\n",
    "    y=y[y[\"P2\"]<100]\n",
    "        \n",
    "    #localize timezone\n",
    "    y.index=y.index.tz_localize(\"UTC\").tz_convert(\"Africa/Dar_es_Salaam\")\n",
    "    \n",
    "    #Resample to 1H window\n",
    "    y=y[\"P2\"].resample(\"1H\").mean().fillna(method=\"ffill\")\n",
    "    return y"
   ]
  },
  {
   "cell_type": "code",
   "execution_count": null,
   "metadata": {},
   "outputs": [],
   "source": [
    "#Use your wrangle function to query the dar collection and return your cleaned results\n",
    "y = wrangle(dar)\n",
    "y.head()"
   ]
  },
  {
   "cell_type": "code",
   "execution_count": null,
   "metadata": {},
   "outputs": [],
   "source": [
    "#Create a time series plot of the readings in y. Label your x-axis \"Date\" and your y-axis \"PM2.5 Level\". Use the title \"Dar es Salaam PM2.5 Levels\"\n",
    "fig, ax = plt.subplots(figsize=(15, 6))\n",
    "y.plot(ax=ax, xlabel=\"Date\", ylabel=\"PM2.5\", title=\"PM2.5 Level\")\n",
    "# Don't delete the code below 👇\n",
    "plt.savefig(\"images/3-5-5.png\", dpi=150)\n"
   ]
  },
  {
   "cell_type": "code",
   "execution_count": null,
   "metadata": {},
   "outputs": [],
   "source": [
    "y.head()\n",
    "y=pd.DataFrame(y)\n",
    "y.head()"
   ]
  },
  {
   "cell_type": "code",
   "execution_count": null,
   "metadata": {},
   "outputs": [],
   "source": [
    "#Plot the rolling average of the readings in y. Use a window size of 168 (the number of hours in a week). Label your x-axis \"Date\" and your y-axis \"PM2.5 Level\". Use the title \"Dar es Salaam PM2.5 Levels, 7-Day Rolling Average\"\n",
    "fig, ax = plt.subplots(figsize=(15, 6))\n",
    "y[\"P2\"].rolling(168).mean().plot(ax=ax,xlabel=\"Date\", ylabel=\"PM2.5 Level\", title=\"Dar er Salaam PM2.5\")\n",
    "# Don't delete the code below 👇\n",
    "\n",
    "plt.savefig(\"images/3-5-6.png\", dpi=150)"
   ]
  },
  {
   "cell_type": "code",
   "execution_count": null,
   "metadata": {},
   "outputs": [],
   "source": [
    "#Create an ACF plot for the data in y. Be sure to label the x-axis as \"Lag [hours]\" and the y-axis as \"Correlation Coefficient\". Use the title \"Dar es Salaam PM2.5 Readings, ACF\"\n",
    "fig, ax = plt.subplots(figsize=(15, 6))\n",
    "plot_acf(y, ax=ax,)\n",
    "plt.xlabel(\"Lag [Hours]\") \n",
    "plt.ylabel(\"Correction Coefficient\") \n",
    "plt.title(\"Dar es Salaam PM2.5 Reading, ACF\")\n",
    "# Don't delete the code below 👇\n",
    "plt.savefig(\"images/3-5-7.png\", dpi=150)"
   ]
  },
  {
   "cell_type": "code",
   "execution_count": null,
   "metadata": {},
   "outputs": [],
   "source": [
    "#Create an PACF plot for the data in y. Be sure to label the x-axis as \"Lag [hours]\" and the y-axis as \"Correlation Coefficient\". Use the title \"Dar es Salaam PM2.5 Readings, PACF\"\n",
    "fig, ax = plt.subplots(figsize=(15, 6))\n",
    "plot_pacf(y, ax=ax,)\n",
    "plt.xlabel(\"Lag [Hours]\") \n",
    "plt.ylabel(\"Correction Coefficient\") \n",
    "plt.title(\"Dar es Salaam PM2.5 Reading, PACF\")\n",
    "# Don't delete the code below 👇\n",
    "plt.savefig(\"images/3-5-8.png\", dpi=150)"
   ]
  },
  {
   "cell_type": "markdown",
   "metadata": {},
   "source": [
    "Split"
   ]
  },
  {
   "cell_type": "code",
   "execution_count": null,
   "metadata": {},
   "outputs": [],
   "source": [
    "#Split y into training and test sets. The first 90% of the data should be in your training set. The remaining 10% should be in the test set\n",
    "cutoff_test=int(len(y)*.9)\n",
    "y_train = y.iloc[0:cutoff_test]\n",
    "y_test = y.iloc[cutoff_test:]\n",
    "print(\"y_train shape:\", y_train.shape)\n",
    "print(\"y_test shape:\", y_test.shape)"
   ]
  },
  {
   "cell_type": "code",
   "execution_count": null,
   "metadata": {},
   "outputs": [],
   "source": [
    "#Establish the baseline mean absolute error for your model\n",
    "y_train_mean = y_train.mean()\n",
    "y_pred_baseline =[y_train.mean()]*len(y_train)\n",
    "mae_baseline = mean_absolute_error(y_train, y_pred_baseline)\n",
    "\n",
    "print(\"Mean P2 Reading:\", y_train_mean)\n",
    "print(\"Baseline MAE:\", mae_baseline)"
   ]
  },
  {
   "cell_type": "code",
   "execution_count": null,
   "metadata": {},
   "outputs": [],
   "source": [
    "#You're going to use an AR model to predict PM2.5 readings, but which hyperparameter settings will give you the best performance? Use a for loop to train your AR model on using settings for p from 1 to 30. Each time you train a new model, calculate its mean absolute error and append the result to the list maes. Then store your results in the Series mae_series\n",
    "p_params = range(1, 31)\n",
    "maes = []\n",
    "for p in p_params:\n",
    "    model=AutoReg(y_train, lags=p).fit()\n",
    "    y_pred=model.predict().dropna()\n",
    "    mae = mean_absolute_error(y_train.iloc[p:], y_pred)\n",
    "    maes.append(mae)\n",
    "mae_series = pd.Series(maes, name=\"mae\", index=p_params)\n",
    "mae_series.head(30)"
   ]
  },
  {
   "cell_type": "code",
   "execution_count": null,
   "metadata": {},
   "outputs": [],
   "source": [
    "#Look through the results in mae_series and determine what value for p provides the best performance. Then build and train final_model using the best hyperparameter value\n",
    "best_p = AutoReg(y_train, lags=28).fit()\n",
    "best_model =best_p"
   ]
  },
  {
   "cell_type": "code",
   "execution_count": null,
   "metadata": {},
   "outputs": [],
   "source": [
    "#Calculate the training residuals for best_model and assign the result to y_train_resid. Note that your name of your Series should be \"residuals\"\n",
    "y_train_resid = best_model.resid\n",
    "y_train_resid.name = \"residuals\"\n",
    "y_train_resid.head()"
   ]
  },
  {
   "cell_type": "code",
   "execution_count": null,
   "metadata": {},
   "outputs": [],
   "source": [
    "#Create a histogram of y_train_resid. Be sure to label the x-axis as \"Residuals\" and the y-axis as \"Frequency\". Use the title \"Best Model, Training Residuals\"\n",
    "# Plot histogram of residuals\n",
    "plt.hist(y_train_resid)\n",
    "plt.xlabel(\"Residuals\")\n",
    "plt.ylabel(\"Frequency\")\n",
    "plt.title(\"Best Model, Training Residuals\")\n",
    "# Don't delete the code below 👇\n",
    "plt.savefig(\"images/3-5-14.png\", dpi=150)"
   ]
  },
  {
   "cell_type": "code",
   "execution_count": null,
   "metadata": {},
   "outputs": [],
   "source": [
    "#Create an ACF plot for y_train_resid. Be sure to label the x-axis as \"Lag [hours]\" and y-axis as \"Correlation Coefficient\". Use the title \"Dar es Salaam, Training Residuals ACF\"\n",
    "fig, ax = plt.subplots(figsize=(15, 6))\n",
    "plot_acf(y_train_resid,ax=ax)\n",
    "plt.xlabel(\"Lag [Hours]\")\n",
    "plt.ylabel(\"Correction Coefficient\")\n",
    "plt.title(\"Dar es Salaam Training Residuals ACF\")\n",
    "# Don't delete the code below 👇\n",
    "plt.savefig(\"images/3-5-15.png\", dpi=150)\n"
   ]
  },
  {
   "cell_type": "markdown",
   "metadata": {},
   "source": [
    "Evaluate"
   ]
  },
  {
   "cell_type": "code",
   "execution_count": null,
   "metadata": {},
   "outputs": [],
   "source": [
    "#Perform walk-forward validation for your model for the entire test set y_test. Store your model's predictions in the Series y_pred_wfv. Make sure the name of your Series is \"prediction\" and the name of your Series index is \"timestamp\"\n",
    "y_pred_wfv = pd.Series()\n",
    "history = y_train.copy()\n",
    "for i in range(len(y_test)):\n",
    "    model=AutoReg(history, lags=28).fit()\n",
    "    next_pred=model.forecast()\n",
    "    y_pred_wfv=y_pred_wfv.append(next_pred)\n",
    "    history=history.append(y_test[next_pred.index])\n",
    "    \n",
    "\n",
    "y_pred_wfv.name = \"prediction\"\n",
    "y_pred_wfv.index.name = \"timestamp\"\n",
    "y_pred_wfv.head()"
   ]
  },
  {
   "cell_type": "markdown",
   "metadata": {},
   "source": [
    "Communicate Results"
   ]
  },
  {
   "cell_type": "code",
   "execution_count": null,
   "metadata": {},
   "outputs": [],
   "source": [
    "#Put the values for y_test and y_pred_wfv into the DataFrame df_pred_test (don't forget the index). Then plot df_pred_test using plotly express. Be sure to label the x-axis as \"Date\" and the y-axis as \"PM2.5 Level\". Use the title \"Dar es Salaam, WFV Predictions\"\n",
    "df_pred_test = pd.DataFrame(\n",
    "{\"y_test\": y_test, \"y_pred_wfv\": y_pred_wfv})\n",
    "fig = px.line(df_pred_test)\n",
    "fig.update_layout(\n",
    "    title=\"Dar es Salaam, WFV Predictions\",\n",
    "    xaxis_title=\"Date\",\n",
    "    yaxis_title=\"PM2.5 Level\",\n",
    ")\n",
    "# Don't delete the code below 👇\n",
    "fig.write_image(\"images/3-5-18.png\", scale=1, height=500, width=700)\n",
    "\n",
    "fig.show()"
   ]
  }
 ],
 "metadata": {
  "language_info": {
   "name": "python"
  },
  "orig_nbformat": 4
 },
 "nbformat": 4,
 "nbformat_minor": 2
}
