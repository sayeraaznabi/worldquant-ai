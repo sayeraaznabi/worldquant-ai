{
 "cells": [
  {
   "cell_type": "markdown",
   "metadata": {},
   "source": [
    "Wrangling Data with MongoDB kE\n"
   ]
  },
  {
   "cell_type": "code",
   "execution_count": null,
   "metadata": {},
   "outputs": [],
   "source": [
    "from pprint import PrettyPrinter\n",
    "\n",
    "import pandas as pd\n",
    "from IPython.display import VimeoVideo\n",
    "from pymongo import MongoClient"
   ]
  },
  {
   "cell_type": "code",
   "execution_count": null,
   "metadata": {},
   "outputs": [],
   "source": [
    "#Instantiate a PrettyPrinter, and assign it to the variable pp\n",
    "pp = PrettyPrinter(indent=2)"
   ]
  },
  {
   "cell_type": "markdown",
   "metadata": {},
   "source": [
    "Prepare Data"
   ]
  },
  {
   "cell_type": "markdown",
   "metadata": {},
   "source": [
    "Connect"
   ]
  },
  {
   "cell_type": "code",
   "execution_count": null,
   "metadata": {},
   "outputs": [],
   "source": [
    "#Create a client that connects to the database running at localhost on port 27017\n",
    "client = MongoClient(host='localhost', port=27017)"
   ]
  },
  {
   "cell_type": "markdown",
   "metadata": {},
   "source": [
    "Explore"
   ]
  },
  {
   "cell_type": "code",
   "execution_count": null,
   "metadata": {},
   "outputs": [],
   "source": [
    "client.list_databases()"
   ]
  },
  {
   "cell_type": "code",
   "execution_count": null,
   "metadata": {},
   "outputs": [],
   "source": [
    "list(client.list_databases())"
   ]
  },
  {
   "cell_type": "code",
   "execution_count": null,
   "metadata": {},
   "outputs": [],
   "source": [
    "#Print a list of the databases available on client\n",
    "pp.pprint(list(client.list_databases())"
   ]
  },
  {
   "cell_type": "code",
   "execution_count": null,
   "metadata": {},
   "outputs": [],
   "source": [
    "#Assign the \"air-quality\" database to the variable db\n",
    "db = client['air-quality']"
   ]
  },
  {
   "cell_type": "code",
   "execution_count": null,
   "metadata": {},
   "outputs": [],
   "source": [
    "#Use the list_collections method to print a list of the collections available in db\n",
    "list(db.list_collections())"
   ]
  },
  {
   "cell_type": "code",
   "execution_count": null,
   "metadata": {},
   "outputs": [],
   "source": [
    "for c in db.list_collections():\n",
    "    print(c[\"name\"])"
   ]
  },
  {
   "cell_type": "code",
   "execution_count": null,
   "metadata": {},
   "outputs": [],
   "source": [
    "#Assign the \"nairobi\" collection in db to the variable name nairobi\n",
    "nairobi = db['nairobi']"
   ]
  },
  {
   "cell_type": "code",
   "execution_count": null,
   "metadata": {},
   "outputs": [],
   "source": [
    "#Use the count_documents method to see how many documents are in the nairobi collection\n",
    "nairobi.count_documents({})"
   ]
  },
  {
   "cell_type": "code",
   "execution_count": null,
   "metadata": {},
   "outputs": [],
   "source": [
    "#Use the find_one method to retrieve one document from the nairobi collection, and assign it to the variable name result\n",
    "result = nairobi.find_one({})\n",
    "pp.pprint(result)"
   ]
  },
  {
   "cell_type": "code",
   "execution_count": null,
   "metadata": {},
   "outputs": [],
   "source": [
    "#Use the distinct method to determine how many sensor sites are included in the nairobi collection.\n",
    "nairobi.distinct(\"metadata.site\")"
   ]
  },
  {
   "cell_type": "code",
   "execution_count": null,
   "metadata": {},
   "outputs": [],
   "source": [
    "#Use the count_documents method to determine how many readings there are for each site in the nairobi collection\n",
    "print(\"Documents from site 6:\", nairobi.count_documents({\"metadata.site\":6}) )\n",
    "print(\"Documents from site 29:\", nairobi.count_documents({\"metadata.site\":29}))"
   ]
  },
  {
   "cell_type": "code",
   "execution_count": null,
   "metadata": {},
   "outputs": [],
   "source": [
    "#Use the aggregate method to determine how many readings there are for each site in the nairobi collection\n",
    "result = nairobi.aggregate(\n",
    "    [\n",
    "        {\"$group\":{\"_id\": \"$metadata.site\", \"count\":{\"$count\": {}}}}\n",
    "    ]\n",
    ")\n",
    "pp.pprint(list(result))"
   ]
  },
  {
   "cell_type": "code",
   "execution_count": null,
   "metadata": {},
   "outputs": [],
   "source": [
    "# Use the distinct method to determine how many types of measurements have been taken in the nairobi collection\n",
    "nairobi.distinct(\"metadata.measurement\")"
   ]
  },
  {
   "cell_type": "code",
   "execution_count": null,
   "metadata": {},
   "outputs": [],
   "source": [
    "#Use the find method to retrieve the PM 2.5 readings from all sites. Be sure to limit your results to 3 records only\n",
    "result = nairobi.find({\"metadata.measurement\":\"P2\"}).limit(3)\n",
    "pp.pprint(list(result))"
   ]
  },
  {
   "cell_type": "code",
   "execution_count": null,
   "metadata": {},
   "outputs": [],
   "source": [
    "#Use the aggregate method to calculate how many readings there are for each type (\"humidity\", \"temperature\", \"P2\", and \"P1\") in site 6\n",
    "result=nairobi.aggregate(\n",
    "    [\n",
    "        {\"$match\": {\"metadata.site\":6}},\n",
    "    {\"$group\": {\"_id\": \"$metadata.measurement\", \"count\":{\"$count\":{}}}}\n",
    "]\n",
    ")\n",
    "pp.pprint(list(result))"
   ]
  },
  {
   "cell_type": "code",
   "execution_count": null,
   "metadata": {},
   "outputs": [],
   "source": [
    "#Use the aggregate method to calculate how many readings there are for each type (\"humidity\", \"temperature\", \"P2\", and \"P1\") in site 29\n",
    "result=nairobi.aggregate(\n",
    "    [\n",
    "        {\"$match\": {\"metadata.site\":29}},\n",
    "    {\"$group\": {\"_id\": \"$metadata.measurement\", \"count\":{\"$count\":{}}}}\n",
    "]\n",
    ")\n",
    "pp.pprint(list(result))"
   ]
  },
  {
   "cell_type": "markdown",
   "metadata": {},
   "source": [
    "Import\n"
   ]
  },
  {
   "cell_type": "code",
   "execution_count": null,
   "metadata": {},
   "outputs": [],
   "source": [
    "#Use the find method to retrieve the PM 2.5 readings from site 29. Be sure to limit your results to 3 records only. Since we won't need the metadata for our model, use the projection argument to limit the results to the \"P2\" and \"timestamp\" keys only\n",
    "result = nairobi.find(\n",
    "    {\"metadata.site\":29, \"metadata.measurement\":\"P2\"},\n",
    "    projection= { \"P2\":1, \"timestamp\":1, \"_id\":0}\n",
    ")\n",
    "pp.pprint(result.next())"
   ]
  },
  {
   "cell_type": "code",
   "execution_count": null,
   "metadata": {},
   "outputs": [],
   "source": [
    "#Read records from your result into the DataFrame df. Be sure to set the index to \"timestamp\"\n",
    "df = pd.DataFrame(result).set_index(\"timestamp\")\n",
    "df.head()"
   ]
  }
 ],
 "metadata": {
  "language_info": {
   "name": "python"
  },
  "orig_nbformat": 4
 },
 "nbformat": 4,
 "nbformat_minor": 2
}
