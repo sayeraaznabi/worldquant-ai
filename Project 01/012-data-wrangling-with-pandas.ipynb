{
 "cells": [
  {
   "cell_type": "markdown",
   "metadata": {},
   "source": [
    "Preparing Mexico Data"
   ]
  },
  {
   "cell_type": "code",
   "execution_count": null,
   "metadata": {},
   "outputs": [],
   "source": [
    "import pandas as pd\n",
    "from IPython.display import VimeoVideo"
   ]
  },
  {
   "cell_type": "code",
   "execution_count": null,
   "metadata": {},
   "outputs": [],
   "source": [
    "#Read these three files into three separate DataFrames named df1, df2, and df3, respectively.\n",
    "df1 = pd.read_csv('data/mexico-real-estate-1.csv')\n",
    "df2 = pd.read_csv('data/mexico-real-estate-2.csv')\n",
    "df3 = pd.read_csv('data/mexico-real-estate-3.csv')"
   ]
  },
  {
   "cell_type": "markdown",
   "metadata": {},
   "source": [
    "Clean DF1"
   ]
  },
  {
   "cell_type": "code",
   "execution_count": null,
   "metadata": {},
   "outputs": [],
   "source": [
    "#inspect df1 by looking at its shape attribute. Then use the info method to see the data types and number of missing values for each column. Finally, use the head method to determine to look at the first five rows of your dataset.\n",
    "df1.shape\n",
    "df1.info()\n",
    "df1.head()"
   ]
  },
  {
   "cell_type": "code",
   "execution_count": null,
   "metadata": {},
   "outputs": [],
   "source": [
    "#Clean df1 by dropping rows with NaN values. Then remove the \"$\" and \",\" characters from \"price_usd\" and recast the values in the column as floats.\n",
    "#Remove Nan from data\n",
    "df1.dropna(inplace=True)\n",
    "#Remove $ and , from price_usd and make the variable float\n",
    "df1['price_usd']=(df1['price_usd']\n",
    "                  .str.replace('$', '')\n",
    "                  .str.replace(',','')\n",
    "                  .astype(float)\n",
    "                 )\n",
    "df1.info()"
   ]
  },
  {
   "cell_type": "markdown",
   "metadata": {},
   "source": [
    "Clean Df2"
   ]
  },
  {
   "cell_type": "code",
   "execution_count": null,
   "metadata": {},
   "outputs": [],
   "source": [
    "#First, drop rows with NaN values in df2. Next, use the \"price_mxn\" column to create a new column named \"price_usd\". (Keep in mind that, when this data was collected in 2014, a dollar cost 19 pesos.) Finally, drop the \"price_mxn\" from the DataFrame.\n",
    "#Remove Nan Values\n",
    "df2.dropna(inplace=True)\n",
    "#Add new column\n",
    "df2['price_usd']=(df2['price_mxn']/19).round(2)\n",
    "#remove column\n",
    "df2.drop(columns= ['price_mxn'],inplace=True)\n",
    "df2.head(5)"
   ]
  },
  {
   "cell_type": "markdown",
   "metadata": {},
   "source": [
    "Clean df3"
   ]
  },
  {
   "cell_type": "code",
   "execution_count": null,
   "metadata": {},
   "outputs": [],
   "source": [
    "#Drop rows with NaN values in df3. Then use the split method to create two new columns from \"lat-lon\" named \"lat\" and \"lon\", respectively.\n",
    "#remove Nan value\n",
    "df3.dropna(inplace=True)\n",
    "#split Column\n",
    "df3[['lat','lon']]=df3['lat-lon'].str.split(',', expand=True)\n",
    "df3.head()"
   ]
  },
  {
   "cell_type": "code",
   "execution_count": null,
   "metadata": {},
   "outputs": [],
   "source": [
    "#Use the split method again, this time to extract the state for every house. (Note that the state name always appears after \"México|\" in each string.) Use this information to create a \"state\" column. Finally, drop the \"place_with_parent_names\" and \"lat-lon\" columns from the DataFrame.\n",
    "#Split column from place_with_parent_names\n",
    "df3['state']=df3['place_with_parent_names'].str.split('|', expand=True)[2]\n",
    "\n",
    "#remove column place_with_parent_names and lat-lon\n",
    "df3.drop(columns=['place_with_parent_names','lat-lon'],inplace=True)\n",
    "df3.head()"
   ]
  },
  {
   "cell_type": "markdown",
   "metadata": {},
   "source": [
    "Concatenate Dataframes"
   ]
  },
  {
   "cell_type": "code",
   "execution_count": null,
   "metadata": {},
   "outputs": [],
   "source": [
    "#Use pd.concat to concatenate df1, df2, df3 as new DataFrame named df. Your new DataFrame should have 1,736 rows and 6 columns:\"property_type\", \"state\", \"lat\", \"lon\", \"area_m2\", \"price_usd\", and \"price_per_m2\"\n",
    "df = pd.concat([df1,df2,df3])\n",
    "print(df.shape)\n",
    "df.head()"
   ]
  },
  {
   "cell_type": "code",
   "execution_count": null,
   "metadata": {},
   "outputs": [],
   "source": [
    "df.to_csv('data/mexico-real-estate-clean.csv', index=False)"
   ]
  }
 ],
 "metadata": {
  "language_info": {
   "name": "python"
  },
  "orig_nbformat": 4
 },
 "nbformat": 4,
 "nbformat_minor": 2
}
