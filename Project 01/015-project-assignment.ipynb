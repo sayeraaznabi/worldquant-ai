{
 "cells": [
  {
   "cell_type": "markdown",
   "metadata": {},
   "source": [
    "Assignment: housing in Brazil BR"
   ]
  },
  {
   "cell_type": "markdown",
   "metadata": {},
   "source": [
    "Prepare Data"
   ]
  },
  {
   "cell_type": "code",
   "execution_count": null,
   "metadata": {},
   "outputs": [],
   "source": [
    "#Import the CSV file data/brasil-real-estate-1.csv into the DataFrame df1\n",
    "df1 = pd.read_csv('data/brasil-real-estate-1.csv')"
   ]
  },
  {
   "cell_type": "code",
   "execution_count": null,
   "metadata": {},
   "outputs": [],
   "source": [
    "#df1 using the info and head methods\n",
    "df1.info()\n",
    "df1.head()"
   ]
  },
  {
   "cell_type": "code",
   "execution_count": null,
   "metadata": {},
   "outputs": [],
   "source": [
    "#Drop all rows with NaN values from the DataFrame df1\n",
    "df1.dropna(inplace=True)\n",
    "df1.info()"
   ]
  },
  {
   "cell_type": "code",
   "execution_count": null,
   "metadata": {},
   "outputs": [],
   "source": [
    "#Use the \"lat-lon\" column to create two separate columns in df1: \"lat\" and \"lon\". Make sure that the data type for these new columns is float\n",
    "df1[['lat','lon']]=(df1['lat-lon'].str.split(',', expand=True).astype(float))\n",
    "#df1.drop(columns='lat-lon', inplace=True)\n",
    "print(df1.shape)"
   ]
  },
  {
   "cell_type": "code",
   "execution_count": null,
   "metadata": {},
   "outputs": [],
   "source": [
    "#Use the \"place_with_parent_names\" column to create a \"state\" column for df1. (Note that the state name always appears after \"|Brasil|\" in each string.)\n",
    "df1['state']=df1['place_with_parent_names'].str.split('|', expand=True)[2]\n",
    "df1['state'].head()\n"
   ]
  },
  {
   "cell_type": "code",
   "execution_count": null,
   "metadata": {},
   "outputs": [],
   "source": [
    "# Transform the \"price_usd\" column of df1 so that all values are floating-point numbers instead of strings\n",
    "df1['price_usd']=(df1['price_usd'].str.replace(',','').str.replace('$','').astype(float)\n",
    "                 )\n",
    "df1['price_usd']"
   ]
  },
  {
   "cell_type": "code",
   "execution_count": null,
   "metadata": {},
   "outputs": [],
   "source": [
    "#Drop the \"lat-lon\" and \"place_with_parent_names\" columns from df1\n",
    "df1.drop(columns=df1[['lat-lon', 'place_with_parent_names']],inplace=True)\n",
    "df1.head()"
   ]
  },
  {
   "cell_type": "code",
   "execution_count": null,
   "metadata": {},
   "outputs": [],
   "source": [
    "#Import the CSV file brasil-real-estate-2.csv into the DataFrame df2\n",
    "df2 = pd.read_csv('data/brasil-real-estate-2.csv')"
   ]
  },
  {
   "cell_type": "code",
   "execution_count": null,
   "metadata": {},
   "outputs": [],
   "source": [
    "#look at df2 using the info and head methods. What issues do you see in the data? How is it similar or different from df1\n",
    "df2.info()\n",
    "df2.head()"
   ]
  },
  {
   "cell_type": "code",
   "execution_count": null,
   "metadata": {},
   "outputs": [],
   "source": [
    "# Use the \"price_brl\" column to create a new column named \"price_usd\". (Keep in mind that, when this data was collected in 2015 and 2016, a US dollar cost 3.19 Brazilian reals.)\n",
    "df2['price_usd']= (df2['price_brl']/3.19).round(2)\n",
    "df2.head()"
   ]
  },
  {
   "cell_type": "code",
   "execution_count": null,
   "metadata": {},
   "outputs": [],
   "source": [
    "#Drop the \"price_brl\" column from df2, as well as any rows that have NaN values\n",
    "df2.dropna(inplace=True)\n",
    "df2.drop(columns=['price_brl'], inplace=True)\n",
    "df2.head()"
   ]
  },
  {
   "cell_type": "code",
   "execution_count": null,
   "metadata": {},
   "outputs": [],
   "source": [
    "#Concatenate df1 and df2 to create a new DataFrame named df\n",
    "df =pd.concat([df1,df2])\n",
    "print(\"df shape:\", df.shape)"
   ]
  },
  {
   "cell_type": "markdown",
   "metadata": {},
   "source": [
    "Explore Data"
   ]
  },
  {
   "cell_type": "code",
   "execution_count": null,
   "metadata": {},
   "outputs": [],
   "source": [
    "#Complete the code below to create a scatter_mapbox showing the location of the properties in df\n",
    "fig = px.scatter_mapbox(\n",
    "    df,\n",
    "    lat='lat',\n",
    "    lon='lon',\n",
    "    center={\"lat\": -14.2, \"lon\": -51.9},  # Map will be centered on Brazil\n",
    "    width=600,\n",
    "    height=600,\n",
    "    hover_data=[\"price_usd\"],  # Display price when hovering mouse over house\n",
    ")\n",
    "\n",
    "fig.update_layout(mapbox_style=\"open-street-map\")\n",
    "\n",
    "fig.show()"
   ]
  },
  {
   "cell_type": "code",
   "execution_count": null,
   "metadata": {},
   "outputs": [],
   "source": [
    "#Use the describe method to create a DataFrame summary_stats with the summary statistics for the \"area_m2\" and \"price_usd\" columns.\n",
    "summary_stats = df[['area_m2','price_usd']].describe()\n",
    "summary_stats"
   ]
  },
  {
   "cell_type": "code",
   "execution_count": null,
   "metadata": {},
   "outputs": [],
   "source": [
    "#Create a histogram of \"price_usd\". Make sure that the x-axis has the label \"Price [USD]\", the y-axis has the label \"Frequency\", and the plot has the title \"Distribution of Home Prices\"\n",
    "# Build histogram\n",
    "plt.hist(df['price_usd'])\n",
    "\n",
    "\n",
    "# Label axes\n",
    "plt.xlabel('Price[USD]')\n",
    "plt.ylabel('Frequency')\n",
    "\n",
    "# Add title\n",
    "plt.title('Distribution of Home Prices')\n",
    "\n",
    "# Don't change the code below 👇\n",
    "plt.savefig(\"images/1-5-12.png\", dpi=150)"
   ]
  },
  {
   "cell_type": "code",
   "execution_count": null,
   "metadata": {},
   "outputs": [],
   "source": [
    "#Create a horizontal boxplot of \"area_m2\". Make sure that the x-axis has the label \"Area [sq meters]\" and the plot has the title \"Distribution of Home Sizes\"\n",
    "# Build box plot\n",
    "plt.boxplot(df['area_m2'], vert=False)\n",
    "\n",
    "\n",
    "# Label x-axis\n",
    "plt.xlabel('Area [sq meters]')\n",
    "\n",
    "# Add title\n",
    "plt. title('Distribution of Home Sizes')\n",
    "# Don't change the code below 👇\n",
    "plt.savefig(\"images/1-5-13.png\", dpi=150)"
   ]
  },
  {
   "cell_type": "code",
   "execution_count": null,
   "metadata": {},
   "outputs": [],
   "source": [
    "#Use the groupby method to create a Series named mean_price_by_region that shows the mean home price in each region in Brazil, sorted from smallest to largest.\n",
    "mean_price_by_region = df.groupby('region')['price_usd'].mean().sort_values(ascending=True)\n",
    "mean_price_by_region\n"
   ]
  },
  {
   "cell_type": "code",
   "execution_count": null,
   "metadata": {},
   "outputs": [],
   "source": [
    "#Use mean_price_by_region to create a bar chart. Make sure you label the x-axis as \"Region\" and the y-axis as \"Mean Price [USD]\", and give the chart the title \"Mean Home Price by Region\"\n",
    "# Build bar chart, label axes, add title\n",
    "mean_price_by_region.plot(kind='bar', xlabel='Region', ylabel='Mean Price [USD]', title='Mean Home Price by Region')\n",
    "\n",
    "# Don't change the code below 👇\n",
    "plt.savefig(\"images/1-5-15.png\", dpi=150)"
   ]
  },
  {
   "cell_type": "code",
   "execution_count": null,
   "metadata": {},
   "outputs": [],
   "source": [
    "#Create a DataFrame df_south that contains all the homes from df that are in the \"South\" region\n",
    "df_south = df[df['region']=='South']\n",
    "df_south.head()"
   ]
  },
  {
   "cell_type": "code",
   "execution_count": null,
   "metadata": {},
   "outputs": [],
   "source": [
    "#Use the value_counts method to create a Series homes_by_state that contains the number of properties in each state in df_south\n",
    "homes_by_state = df_south['state'].value_counts().head()\n",
    "homes_by_state"
   ]
  },
  {
   "cell_type": "code",
   "execution_count": null,
   "metadata": {},
   "outputs": [],
   "source": [
    "#Create a scatter plot showing price vs. area for the state in df_south that has the largest number of properties. Be sure to label the x-axis \"Area [sq meters]\" and the y-axis \"Price [USD]\"; and use the title \"<name of state>: Price vs. Area\"\n",
    "# Subset data\n",
    "df_south_rgs =df_south[df_south['state']=='Rio Grande do Sul']\n",
    "\n",
    "# Build scatter plot\n",
    "plt.scatter(x=df_south_rgs['area_m2'], y=df_south_rgs['price_usd'])\n",
    "\n",
    "\n",
    "# Label axes\n",
    "plt.xlabel('Area [sq meters]')\n",
    "plt.ylabel('Price [USD]')\n",
    "# Add title\n",
    "plt.title(\"Rio Grande do Sul: Price vs. Area\")\n",
    "\n",
    "# Don't change the code below 👇\n",
    "plt.savefig(\"images/1-5-18.png\", dpi=150)"
   ]
  },
  {
   "cell_type": "markdown",
   "metadata": {},
   "source": [
    "Create a dictionary south_states_corr, where the keys are the names of the three states in the \"South\" region of Brazil, and their associated values are the correlation coefficient between \"area_m2\" and \"price_usd\" in that state.\n",
    "\n",
    "As an example, here's a dictionary with the states and correlation coefficients for the Southeast region. Since you're looking at a different region, the states and coefficients will be different, but the structure of the dictionary will be the same.\n",
    "\n",
    "{'Espírito Santo': 0.6311332554173303,\n",
    " 'Minas Gerais': 0.5830029036378931,\n",
    " 'Rio de Janeiro': 0.4554077103515366,\n",
    " 'São Paulo': 0.45882050624839366}"
   ]
  },
  {
   "cell_type": "code",
   "execution_count": null,
   "metadata": {},
   "outputs": [],
   "source": [
    "#Create a dictionary south_states_corr, where the keys are the names of the three states in the \"South\" region of Brazil, and their associated values are the correlation coefficient between \"area_m2\" and \"price_usd\" in that state.\n",
    "south_states = list(homes_by_state.index)\n",
    "\n",
    "south_states_corr = { }\n",
    "for state in south_states:\n",
    "    temp_df = df[df['state'] == state]\n",
    "    south_states_corr[state] = temp_df[\"area_m2\"].corr(temp_df[\"price_usd\"])\n",
    "south_states_corr"
   ]
  }
 ],
 "metadata": {
  "language_info": {
   "name": "python"
  },
  "orig_nbformat": 4
 },
 "nbformat": 4,
 "nbformat_minor": 2
}
