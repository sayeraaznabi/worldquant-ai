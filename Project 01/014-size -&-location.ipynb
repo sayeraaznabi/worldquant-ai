{
 "cells": [
  {
   "cell_type": "markdown",
   "metadata": {},
   "source": [
    "Location or Size: what influences house price in Mexico?"
   ]
  },
  {
   "cell_type": "code",
   "execution_count": null,
   "metadata": {},
   "outputs": [],
   "source": [
    "import matplotlib.pyplot as plt\n",
    "import pandas as pd\n",
    "from IPython.display import VimeoVideo"
   ]
  },
  {
   "cell_type": "code",
   "execution_count": null,
   "metadata": {},
   "outputs": [],
   "source": [
    "df = pd.read_csv('data/mexico-real-estate-clean.csv')"
   ]
  },
  {
   "cell_type": "markdown",
   "metadata": {},
   "source": [
    "Research Question 1\n",
    "Which state has the most expensive real estate market?\n",
    "\n",
    "Do housing prices vary by state? If so, which are the most expensive states for purchasing a home? During our exploratory data analysis, we used descriptive statistics like mean and median to get an idea of the \"typical\" house price in Mexico. Now, we need to break that calculation down by state and visualize the results.\n",
    "\n",
    "We know in which state each house is located thanks to the \"state\" column. The next step is to divide our dataset into groups (one per state) and calculate the mean house price for each group."
   ]
  },
  {
   "cell_type": "code",
   "execution_count": null,
   "metadata": {},
   "outputs": [],
   "source": [
    "#Use the groupby method to create a Series named mean_price_by_state, where the index contains each state in the dataset and the values correspond to the mean house price for that state. Make sure your Series is sorted from highest to lowest mean price.\n",
    "mean_price_by_state = df.groupby('state')['price_usd'].mean().sort_values(ascending=False)\n",
    "mean_price_by_state"
   ]
  },
  {
   "cell_type": "code",
   "execution_count": null,
   "metadata": {},
   "outputs": [],
   "source": [
    "#Use mean_price_by_state to create a bar chart of your results. Make sure the states are sorted from the highest to lowest mean, that you label the x-axis as \"State\" and the y-axis as \"Mean Price [USD]\", and give the chart the title \"Mean House Price by State\"\n",
    "mean_price_by_state.plot(kind='bar', xlabel='state',ylabel='Mean Price[USD]', title='Mean Price[USD]')"
   ]
  },
  {
   "cell_type": "code",
   "execution_count": null,
   "metadata": {},
   "outputs": [],
   "source": [
    "#Create a new column in df called \"price_per_m2\". This should be the price for each house divided by it's size.\n",
    "df[\"price_per_m2\"] = df['price_usd']/df['area_m2']\n",
    "df.head()"
   ]
  },
  {
   "cell_type": "code",
   "execution_count": null,
   "metadata": {},
   "outputs": [],
   "source": [
    "#First, use the groupby method to create a Series where the index contains each state in the dataset and the values correspond to the mean house price per m2 for that state. Then use the Series to create a bar chart of your results. Make sure the states are sorted from the highest to lowest mean, that you label the x-axis as \"State\" and the y-axis as \"Mean Price per M^2[USD]\", and give the chart the title \"Mean House Price per M^2 by State\".\n",
    "(df.groupby('state')['price_per_m2'].mean().sort_values(ascending=False).plot(kind='bar', xlabel='state', ylabel='mean price per m^[usd]', title='mean house price per m^2 by state'));"
   ]
  },
  {
   "cell_type": "markdown",
   "metadata": {},
   "source": [
    "Research Question 2\n",
    "Is there a relationship between home size and price?\n",
    "\n",
    "From our previous question, we know that the location of a home affects its price (especially if it's in Mexico City), but what about home size? Does the size of a house influence price?\n",
    "\n",
    "A scatter plot can be helpful when evaluating the relationship between two columns because it lets you see if two variables are correlated — in this case, if an increase in home size is associated with an increase in price."
   ]
  },
  {
   "cell_type": "code",
   "execution_count": null,
   "metadata": {},
   "outputs": [],
   "source": [
    "#Create a scatter plot from df that represents price as a function of size. In other words, \"area_m2\" should be on the x-axis, and \"price_usd\" should be on the y-axis. Be sure to use expressive axis labels (\"Area [sq meters]\" and \"Price [USD]\", respectively).\n",
    "plt.scatter(x=df['area_m2'], y=df['price_usd'])\n",
    "plt.xlabel('Area [sq meters]')\n",
    "plt.ylabel('Price[USD]')\n",
    "plt.title('Area vs Price')"
   ]
  },
  {
   "cell_type": "code",
   "execution_count": null,
   "metadata": {},
   "outputs": [],
   "source": [
    "#Using the corr method, calculate the Pearson correlation coefficient for \"area_m2\" and \"price_usd\"\n",
    "p_correlation = df['area_m2'].corr(df['price_usd'])\n",
    "print(p_correlation)"
   ]
  },
  {
   "cell_type": "code",
   "execution_count": null,
   "metadata": {},
   "outputs": [],
   "source": [
    "#Create a new DataFrame named df_morelos. It should include all the houses from df that are in the state of Morelos.\n",
    "df_morelos = df[df['state']== 'Morelos']\n",
    "df_morelos.head()"
   ]
  },
  {
   "cell_type": "code",
   "execution_count": null,
   "metadata": {},
   "outputs": [],
   "source": [
    "#Using df_morelos, create a scatter plot that shows price vs area. Make sure to use the same axis labels as your last scatter plot. The title should be \"Morelos: Price vs. Area\"\n",
    "plt.scatter(x=df_morelos['area_m2'],y=df_morelos['price_usd'])\n",
    "plt.xlabel(\"Area\")\n",
    "plt.ylabel(\"price\")\n",
    "plt.title(\"Morelos: price vs area\")"
   ]
  },
  {
   "cell_type": "code",
   "execution_count": null,
   "metadata": {},
   "outputs": [],
   "source": [
    "#Using the corr method, calculate the Pearson correlation coefficient for \"area_m2\" and \"price_usd\" in df_morelos\n",
    "p_correlation = df_morelos['area_m2'].corr(df_morelos['price_usd'])\n",
    "print(p_correlation)"
   ]
  },
  {
   "cell_type": "code",
   "execution_count": null,
   "metadata": {},
   "outputs": [],
   "source": [
    "# Subset `df` to include only observations from `\"Distrito Federal\"`\n",
    "df_mexico_city = df[df['state']=='Distrito Federal']\n",
    "\n",
    "# Create a scatter plot price vs area\n",
    "plt.scatter(x=df_mexico_city['area_m2'],y=df_mexico_city['price_usd'])\n",
    "plt.xlabel('Area')\n",
    "plt.ylabel('Price')\n",
    "plt.title('Mexico city: Price vs Area')\n",
    "p_correlation = df_mexico_city['area_m2'].corr(df_mexico_city['price_usd'])\n",
    "print(p_correlation)"
   ]
  }
 ],
 "metadata": {
  "language_info": {
   "name": "python"
  },
  "orig_nbformat": 4
 },
 "nbformat": 4,
 "nbformat_minor": 2
}
